{
 "cells": [
  {
   "cell_type": "code",
   "execution_count": 1,
   "metadata": {},
   "outputs": [],
   "source": [
    "# Importing necessary modules\n",
    "import pandas as pd\n",
    "import numpy as np\n",
    "import matplotlib.pyplot as plt\n",
    "import datetime as dt\n",
    "import warnings\n",
    "warnings.filterwarnings(\"ignore\")"
   ]
  },
  {
   "cell_type": "code",
   "execution_count": 2,
   "metadata": {},
   "outputs": [],
   "source": [
    "# Reading Card Transactions Raw Data\n",
    "data = pd.read_excel('card transactions.xlsx')"
   ]
  },
  {
   "cell_type": "markdown",
   "metadata": {},
   "source": [
    "## Exclusions"
   ]
  },
  {
   "cell_type": "code",
   "execution_count": 3,
   "metadata": {},
   "outputs": [
    {
     "data": {
      "text/html": [
       "<div>\n",
       "<style scoped>\n",
       "    .dataframe tbody tr th:only-of-type {\n",
       "        vertical-align: middle;\n",
       "    }\n",
       "\n",
       "    .dataframe tbody tr th {\n",
       "        vertical-align: top;\n",
       "    }\n",
       "\n",
       "    .dataframe thead th {\n",
       "        text-align: right;\n",
       "    }\n",
       "</style>\n",
       "<table border=\"1\" class=\"dataframe\">\n",
       "  <thead>\n",
       "    <tr style=\"text-align: right;\">\n",
       "      <th></th>\n",
       "      <th>Recnum</th>\n",
       "      <th>Cardnum</th>\n",
       "      <th>Date</th>\n",
       "      <th>Merchnum</th>\n",
       "      <th>Merch description</th>\n",
       "      <th>Merch state</th>\n",
       "      <th>Merch zip</th>\n",
       "      <th>Transtype</th>\n",
       "      <th>Amount</th>\n",
       "      <th>Fraud</th>\n",
       "    </tr>\n",
       "  </thead>\n",
       "  <tbody>\n",
       "    <tr>\n",
       "      <th>0</th>\n",
       "      <td>1</td>\n",
       "      <td>5142190439</td>\n",
       "      <td>2010-01-01</td>\n",
       "      <td>5509006296254</td>\n",
       "      <td>FEDEX SHP 12/23/09 AB#</td>\n",
       "      <td>TN</td>\n",
       "      <td>38118.0</td>\n",
       "      <td>P</td>\n",
       "      <td>3.62</td>\n",
       "      <td>0</td>\n",
       "    </tr>\n",
       "    <tr>\n",
       "      <th>1</th>\n",
       "      <td>2</td>\n",
       "      <td>5142183973</td>\n",
       "      <td>2010-01-01</td>\n",
       "      <td>61003026333</td>\n",
       "      <td>SERVICE MERCHANDISE #81</td>\n",
       "      <td>MA</td>\n",
       "      <td>1803.0</td>\n",
       "      <td>P</td>\n",
       "      <td>31.42</td>\n",
       "      <td>0</td>\n",
       "    </tr>\n",
       "    <tr>\n",
       "      <th>2</th>\n",
       "      <td>3</td>\n",
       "      <td>5142131721</td>\n",
       "      <td>2010-01-01</td>\n",
       "      <td>4503082993600</td>\n",
       "      <td>OFFICE DEPOT #191</td>\n",
       "      <td>MD</td>\n",
       "      <td>20706.0</td>\n",
       "      <td>P</td>\n",
       "      <td>178.49</td>\n",
       "      <td>0</td>\n",
       "    </tr>\n",
       "    <tr>\n",
       "      <th>3</th>\n",
       "      <td>4</td>\n",
       "      <td>5142148452</td>\n",
       "      <td>2010-01-01</td>\n",
       "      <td>5509006296254</td>\n",
       "      <td>FEDEX SHP 12/28/09 AB#</td>\n",
       "      <td>TN</td>\n",
       "      <td>38118.0</td>\n",
       "      <td>P</td>\n",
       "      <td>3.62</td>\n",
       "      <td>0</td>\n",
       "    </tr>\n",
       "    <tr>\n",
       "      <th>4</th>\n",
       "      <td>5</td>\n",
       "      <td>5142190439</td>\n",
       "      <td>2010-01-01</td>\n",
       "      <td>5509006296254</td>\n",
       "      <td>FEDEX SHP 12/23/09 AB#</td>\n",
       "      <td>TN</td>\n",
       "      <td>38118.0</td>\n",
       "      <td>P</td>\n",
       "      <td>3.62</td>\n",
       "      <td>0</td>\n",
       "    </tr>\n",
       "  </tbody>\n",
       "</table>\n",
       "</div>"
      ],
      "text/plain": [
       "   Recnum     Cardnum       Date       Merchnum        Merch description  \\\n",
       "0       1  5142190439 2010-01-01  5509006296254   FEDEX SHP 12/23/09 AB#   \n",
       "1       2  5142183973 2010-01-01    61003026333  SERVICE MERCHANDISE #81   \n",
       "2       3  5142131721 2010-01-01  4503082993600        OFFICE DEPOT #191   \n",
       "3       4  5142148452 2010-01-01  5509006296254   FEDEX SHP 12/28/09 AB#   \n",
       "4       5  5142190439 2010-01-01  5509006296254   FEDEX SHP 12/23/09 AB#   \n",
       "\n",
       "  Merch state  Merch zip Transtype  Amount  Fraud  \n",
       "0          TN    38118.0         P    3.62      0  \n",
       "1          MA     1803.0         P   31.42      0  \n",
       "2          MD    20706.0         P  178.49      0  \n",
       "3          TN    38118.0         P    3.62      0  \n",
       "4          TN    38118.0         P    3.62      0  "
      ]
     },
     "execution_count": 3,
     "metadata": {},
     "output_type": "execute_result"
    }
   ],
   "source": [
    "#Retaining only P transaction type\n",
    "data = data[data['Transtype'] == 'P']\n",
    "data.head()"
   ]
  },
  {
   "cell_type": "code",
   "execution_count": 4,
   "metadata": {},
   "outputs": [
    {
     "name": "stdout",
     "output_type": "stream",
     "text": [
      "<class 'pandas.core.frame.DataFrame'>\n",
      "Int64Index: 96397 entries, 0 to 96752\n",
      "Data columns (total 10 columns):\n",
      " #   Column             Non-Null Count  Dtype         \n",
      "---  ------             --------------  -----         \n",
      " 0   Recnum             96397 non-null  int64         \n",
      " 1   Cardnum            96397 non-null  int64         \n",
      " 2   Date               96397 non-null  datetime64[ns]\n",
      " 3   Merchnum           93199 non-null  object        \n",
      " 4   Merch description  96397 non-null  object        \n",
      " 5   Merch state        95377 non-null  object        \n",
      " 6   Merch zip          92097 non-null  float64       \n",
      " 7   Transtype          96397 non-null  object        \n",
      " 8   Amount             96397 non-null  float64       \n",
      " 9   Fraud              96397 non-null  int64         \n",
      "dtypes: datetime64[ns](1), float64(2), int64(3), object(4)\n",
      "memory usage: 8.1+ MB\n"
     ]
    }
   ],
   "source": [
    "#Removing the largest transaction (It is in Pesos)\n",
    "data = data[data['Amount'] < 3000000]\n",
    "data.info()"
   ]
  },
  {
   "cell_type": "code",
   "execution_count": 5,
   "metadata": {},
   "outputs": [
    {
     "data": {
      "text/plain": [
       "Recnum               100.000000\n",
       "Cardnum              100.000000\n",
       "Date                 100.000000\n",
       "Merchnum              96.682469\n",
       "Merch description    100.000000\n",
       "Merch state           98.941876\n",
       "Merch zip             95.539280\n",
       "Transtype            100.000000\n",
       "Amount               100.000000\n",
       "Fraud                100.000000\n",
       "dtype: float64"
      ]
     },
     "execution_count": 5,
     "metadata": {},
     "output_type": "execute_result"
    }
   ],
   "source": [
    "#% of missing records\n",
    "data.count() * 100 /len(data)"
   ]
  },
  {
   "cell_type": "code",
   "execution_count": 6,
   "metadata": {},
   "outputs": [
    {
     "data": {
      "text/plain": [
       "Recnum                  0\n",
       "Cardnum                 0\n",
       "Date                    0\n",
       "Merchnum             3198\n",
       "Merch description       0\n",
       "Merch state          1020\n",
       "Merch zip            4300\n",
       "Transtype               0\n",
       "Amount                  0\n",
       "Fraud                   0\n",
       "dtype: int64"
      ]
     },
     "execution_count": 6,
     "metadata": {},
     "output_type": "execute_result"
    }
   ],
   "source": [
    "#checking nulls\n",
    "data.isnull().sum()"
   ]
  },
  {
   "cell_type": "markdown",
   "metadata": {},
   "source": [
    "## Data Cleaning"
   ]
  },
  {
   "cell_type": "code",
   "execution_count": 7,
   "metadata": {},
   "outputs": [
    {
     "data": {
      "text/plain": [
       "Recnum               0\n",
       "Cardnum              0\n",
       "Date                 0\n",
       "Merchnum             0\n",
       "Merch description    0\n",
       "Merch state          0\n",
       "Merch zip            0\n",
       "Transtype            0\n",
       "Amount               0\n",
       "Fraud                0\n",
       "dtype: int64"
      ]
     },
     "execution_count": 7,
     "metadata": {},
     "output_type": "execute_result"
    }
   ],
   "source": [
    "# Replacing 0s with nan\n",
    "data['Merchnum'] = data['Merchnum'].replace(np.nan,'0')\n",
    "data['Merch state'] = data['Merch state'].replace(np.nan,'0')\n",
    "data['Merch zip'] = data['Merch zip'].replace(np.nan,0)\n",
    "data.isnull().sum()"
   ]
  },
  {
   "cell_type": "markdown",
   "metadata": {},
   "source": [
    "### Filling Merchnum"
   ]
  },
  {
   "cell_type": "code",
   "execution_count": 8,
   "metadata": {},
   "outputs": [
    {
     "data": {
      "text/plain": [
       "Recnum                  0\n",
       "Cardnum                 0\n",
       "Date                    0\n",
       "Merchnum             3251\n",
       "Merch description       0\n",
       "Merch state             0\n",
       "Merch zip               0\n",
       "Transtype               0\n",
       "Amount                  0\n",
       "Fraud                   0\n",
       "dtype: int64"
      ]
     },
     "execution_count": 8,
     "metadata": {},
     "output_type": "execute_result"
    }
   ],
   "source": [
    "data['Merchnum'].replace({'0':np.nan},inplace = True)\n",
    "data.isnull().sum()"
   ]
  },
  {
   "cell_type": "code",
   "execution_count": 9,
   "metadata": {},
   "outputs": [
    {
     "data": {
      "text/plain": [
       "Recnum               0\n",
       "Cardnum              0\n",
       "Date                 0\n",
       "Merchnum             0\n",
       "Merch description    0\n",
       "Merch state          0\n",
       "Merch zip            0\n",
       "Transtype            0\n",
       "Amount               0\n",
       "Fraud                0\n",
       "dtype: int64"
      ]
     },
     "execution_count": 9,
     "metadata": {},
     "output_type": "execute_result"
    }
   ],
   "source": [
    "data['Merchnum']=data.groupby(['Merch description','Merch zip'])['Merchnum'].transform(lambda x:x.fillna(x.mode()[0]) if not x.mode().empty else 'Empty')\n",
    "data['Merchnum'].replace({'Empty':np.nan},inplace = True)\n",
    "data['Merchnum']=data.groupby(['Merch description','Merch state'])['Merchnum'].transform(lambda x:x.fillna(x.mode()[0]) if not x.mode().empty else 'Empty')\n",
    "data['Merchnum'].replace({'Empty':np.nan},inplace = True)\n",
    "data['Merchnum']=data.groupby('Merch description')['Merchnum'].transform(lambda x:x.fillna(x.mode()[0]) if not x.mode().empty else 'Empty')\n",
    "data['Merchnum']=np.where(data['Merchnum']=='Empty',data['Recnum']*(-1),data['Merchnum'])\n",
    "data.isnull().sum()"
   ]
  },
  {
   "cell_type": "markdown",
   "metadata": {},
   "source": [
    "### Filling State & Zip"
   ]
  },
  {
   "cell_type": "code",
   "execution_count": 10,
   "metadata": {},
   "outputs": [
    {
     "data": {
      "text/plain": [
       "Recnum                  0\n",
       "Cardnum                 0\n",
       "Date                    0\n",
       "Merchnum                0\n",
       "Merch description       0\n",
       "Merch state          1020\n",
       "Merch zip            4300\n",
       "Transtype               0\n",
       "Amount                  0\n",
       "Fraud                   0\n",
       "dtype: int64"
      ]
     },
     "execution_count": 10,
     "metadata": {},
     "output_type": "execute_result"
    }
   ],
   "source": [
    "data['Merch state'].replace({'0':np.nan},inplace = True)\n",
    "data['Merch zip'].replace({0:np.nan},inplace = True)\n",
    "data.isnull().sum()"
   ]
  },
  {
   "cell_type": "code",
   "execution_count": 11,
   "metadata": {},
   "outputs": [
    {
     "data": {
      "text/plain": [
       "Recnum               0\n",
       "Cardnum              0\n",
       "Date                 0\n",
       "Merchnum             0\n",
       "Merch description    0\n",
       "Merch state          0\n",
       "Merch zip            0\n",
       "Transtype            0\n",
       "Amount               0\n",
       "Fraud                0\n",
       "dtype: int64"
      ]
     },
     "execution_count": 11,
     "metadata": {},
     "output_type": "execute_result"
    }
   ],
   "source": [
    "data['Merch state']=data.groupby('Merchnum')['Merch state'].transform(lambda x:x.fillna(x.mode()[0]) if not x.mode().empty else 'Empty')\n",
    "data['Merch zip']=data.groupby('Merchnum')['Merch zip'].transform(lambda x:x.fillna(x.mode()[0]) if not x.mode().empty else 'Empty')\n",
    "data['Merch state']=np.where(data['Merch state']=='Empty',data['Recnum']*(-1),data['Merch state'])\n",
    "data['Merch zip']=np.where(data['Merch zip']=='Empty',data['Recnum']*(-1),data['Merch zip'])\n",
    "data.isnull().sum()"
   ]
  },
  {
   "cell_type": "code",
   "execution_count": 12,
   "metadata": {},
   "outputs": [
    {
     "data": {
      "text/plain": [
       "(96397, 10)"
      ]
     },
     "execution_count": 12,
     "metadata": {},
     "output_type": "execute_result"
    }
   ],
   "source": [
    "data.shape"
   ]
  },
  {
   "cell_type": "code",
   "execution_count": 13,
   "metadata": {},
   "outputs": [],
   "source": [
    "#data.to_csv(\"Cleaned Data.csv\")"
   ]
  }
 ],
 "metadata": {
  "kernelspec": {
   "display_name": "Python 3",
   "language": "python",
   "name": "python3"
  },
  "language_info": {
   "codemirror_mode": {
    "name": "ipython",
    "version": 3
   },
   "file_extension": ".py",
   "mimetype": "text/x-python",
   "name": "python",
   "nbconvert_exporter": "python",
   "pygments_lexer": "ipython3",
   "version": "3.7.6"
  }
 },
 "nbformat": 4,
 "nbformat_minor": 4
}
